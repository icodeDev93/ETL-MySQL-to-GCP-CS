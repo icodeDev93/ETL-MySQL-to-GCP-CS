{
 "cells": [
  {
   "cell_type": "code",
   "execution_count": 1,
   "id": "42152d7b-278d-42c7-bae9-c98edbf079f1",
   "metadata": {},
   "outputs": [],
   "source": [
    "# Import libraries\n",
    "import MySQLdb as db\n",
    "import pandas as pd"
   ]
  },
  {
   "cell_type": "code",
   "execution_count": 2,
   "id": "ab723334-d2b8-4a57-8227-cf0773a7b9f3",
   "metadata": {},
   "outputs": [],
   "source": [
    "# Establish a connection\n",
    "connection = db.connect(\n",
    "    host = 'localhost',\n",
    "    user = 'root',\n",
    "    password = '$herm@n024',\n",
    "    database = 'pizza_sales'\n",
    ")"
   ]
  },
  {
   "cell_type": "code",
   "execution_count": 3,
   "id": "30446c72-147a-42ba-9c02-41f5deeeb5ad",
   "metadata": {},
   "outputs": [
    {
     "name": "stdout",
     "output_type": "stream",
     "text": [
      "<_mysql.connection open to 'localhost' at 0000016C30820EF0>\n"
     ]
    }
   ],
   "source": [
    "print(connection)"
   ]
  },
  {
   "cell_type": "code",
   "execution_count": 4,
   "id": "e973ba13-18ff-4748-b882-026f61f8ab28",
   "metadata": {},
   "outputs": [
    {
     "name": "stderr",
     "output_type": "stream",
     "text": [
      "C:\\Users\\Eben\\AppData\\Local\\Temp\\ipykernel_2000\\701935869.py:3: UserWarning: pandas only supports SQLAlchemy connectable (engine/connection) or database string URI or sqlite3 DBAPI2 connection. Other DBAPI2 objects are not tested. Please consider using SQLAlchemy.\n",
      "  df = pd.read_sql(query,connection)\n"
     ]
    }
   ],
   "source": [
    "# query the data\n",
    "query = 'SELECT * FROM pizza'\n",
    "df = pd.read_sql(query,connection)\n",
    "\n",
    "#close connection\n",
    "connection.close()"
   ]
  },
  {
   "cell_type": "code",
   "execution_count": 5,
   "id": "0ff647c1-ffc7-46fe-bfe4-aeb18ef0956d",
   "metadata": {},
   "outputs": [
    {
     "data": {
      "text/html": [
       "<div>\n",
       "<style scoped>\n",
       "    .dataframe tbody tr th:only-of-type {\n",
       "        vertical-align: middle;\n",
       "    }\n",
       "\n",
       "    .dataframe tbody tr th {\n",
       "        vertical-align: top;\n",
       "    }\n",
       "\n",
       "    .dataframe thead th {\n",
       "        text-align: right;\n",
       "    }\n",
       "</style>\n",
       "<table border=\"1\" class=\"dataframe\">\n",
       "  <thead>\n",
       "    <tr style=\"text-align: right;\">\n",
       "      <th></th>\n",
       "      <th>id</th>\n",
       "      <th>date</th>\n",
       "      <th>time</th>\n",
       "      <th>name</th>\n",
       "      <th>size</th>\n",
       "      <th>type</th>\n",
       "      <th>price</th>\n",
       "    </tr>\n",
       "  </thead>\n",
       "  <tbody>\n",
       "    <tr>\n",
       "      <th>0</th>\n",
       "      <td>2015-000001</td>\n",
       "      <td>None</td>\n",
       "      <td>0 days 11:38:36</td>\n",
       "      <td>hawaiian</td>\n",
       "      <td>M</td>\n",
       "      <td>classic</td>\n",
       "      <td>13.25</td>\n",
       "    </tr>\n",
       "    <tr>\n",
       "      <th>1</th>\n",
       "      <td>2015-000002</td>\n",
       "      <td>None</td>\n",
       "      <td>0 days 11:57:40</td>\n",
       "      <td>classic_dlx</td>\n",
       "      <td>M</td>\n",
       "      <td>classic</td>\n",
       "      <td>16.00</td>\n",
       "    </tr>\n",
       "    <tr>\n",
       "      <th>2</th>\n",
       "      <td>2015-000002</td>\n",
       "      <td>None</td>\n",
       "      <td>0 days 11:57:40</td>\n",
       "      <td>mexicana</td>\n",
       "      <td>M</td>\n",
       "      <td>veggie</td>\n",
       "      <td>16.00</td>\n",
       "    </tr>\n",
       "    <tr>\n",
       "      <th>3</th>\n",
       "      <td>2015-000002</td>\n",
       "      <td>None</td>\n",
       "      <td>0 days 11:57:40</td>\n",
       "      <td>thai_ckn</td>\n",
       "      <td>L</td>\n",
       "      <td>chicken</td>\n",
       "      <td>20.75</td>\n",
       "    </tr>\n",
       "    <tr>\n",
       "      <th>4</th>\n",
       "      <td>2015-000002</td>\n",
       "      <td>None</td>\n",
       "      <td>0 days 11:57:40</td>\n",
       "      <td>five_cheese</td>\n",
       "      <td>L</td>\n",
       "      <td>veggie</td>\n",
       "      <td>18.50</td>\n",
       "    </tr>\n",
       "    <tr>\n",
       "      <th>...</th>\n",
       "      <td>...</td>\n",
       "      <td>...</td>\n",
       "      <td>...</td>\n",
       "      <td>...</td>\n",
       "      <td>...</td>\n",
       "      <td>...</td>\n",
       "      <td>...</td>\n",
       "    </tr>\n",
       "    <tr>\n",
       "      <th>995</th>\n",
       "      <td>2015-000427</td>\n",
       "      <td>None</td>\n",
       "      <td>0 days 21:49:00</td>\n",
       "      <td>spinach_fet</td>\n",
       "      <td>L</td>\n",
       "      <td>veggie</td>\n",
       "      <td>20.25</td>\n",
       "    </tr>\n",
       "    <tr>\n",
       "      <th>996</th>\n",
       "      <td>2015-000428</td>\n",
       "      <td>None</td>\n",
       "      <td>0 days 22:05:00</td>\n",
       "      <td>calabrese</td>\n",
       "      <td>L</td>\n",
       "      <td>supreme</td>\n",
       "      <td>20.25</td>\n",
       "    </tr>\n",
       "    <tr>\n",
       "      <th>997</th>\n",
       "      <td>2015-000428</td>\n",
       "      <td>None</td>\n",
       "      <td>0 days 22:05:00</td>\n",
       "      <td>ital_cpcllo</td>\n",
       "      <td>S</td>\n",
       "      <td>classic</td>\n",
       "      <td>12.00</td>\n",
       "    </tr>\n",
       "    <tr>\n",
       "      <th>998</th>\n",
       "      <td>2015-000429</td>\n",
       "      <td>None</td>\n",
       "      <td>0 days 22:16:53</td>\n",
       "      <td>spicy_ital</td>\n",
       "      <td>M</td>\n",
       "      <td>supreme</td>\n",
       "      <td>16.50</td>\n",
       "    </tr>\n",
       "    <tr>\n",
       "      <th>999</th>\n",
       "      <td>2015-000430</td>\n",
       "      <td>None</td>\n",
       "      <td>0 days 22:46:13</td>\n",
       "      <td>green_garden</td>\n",
       "      <td>M</td>\n",
       "      <td>veggie</td>\n",
       "      <td>16.00</td>\n",
       "    </tr>\n",
       "  </tbody>\n",
       "</table>\n",
       "<p>1000 rows × 7 columns</p>\n",
       "</div>"
      ],
      "text/plain": [
       "              id  date            time          name size     type  price\n",
       "0    2015-000001  None 0 days 11:38:36      hawaiian    M  classic  13.25\n",
       "1    2015-000002  None 0 days 11:57:40   classic_dlx    M  classic  16.00\n",
       "2    2015-000002  None 0 days 11:57:40      mexicana    M   veggie  16.00\n",
       "3    2015-000002  None 0 days 11:57:40      thai_ckn    L  chicken  20.75\n",
       "4    2015-000002  None 0 days 11:57:40   five_cheese    L   veggie  18.50\n",
       "..           ...   ...             ...           ...  ...      ...    ...\n",
       "995  2015-000427  None 0 days 21:49:00   spinach_fet    L   veggie  20.25\n",
       "996  2015-000428  None 0 days 22:05:00     calabrese    L  supreme  20.25\n",
       "997  2015-000428  None 0 days 22:05:00   ital_cpcllo    S  classic  12.00\n",
       "998  2015-000429  None 0 days 22:16:53    spicy_ital    M  supreme  16.50\n",
       "999  2015-000430  None 0 days 22:46:13  green_garden    M   veggie  16.00\n",
       "\n",
       "[1000 rows x 7 columns]"
      ]
     },
     "execution_count": 5,
     "metadata": {},
     "output_type": "execute_result"
    }
   ],
   "source": [
    "# display the data\n",
    "df.head(1000)"
   ]
  },
  {
   "cell_type": "code",
   "execution_count": 7,
   "id": "ddcd8c79-c016-4b47-b6e1-772bbf1b9d62",
   "metadata": {},
   "outputs": [],
   "source": [
    "# Transform data by creating a new field for discount\n",
    "df['Discount Price'] = df['price'] * 0.75\n",
    "\n",
    "# create and save transformed data in a csv file\n",
    "transformed_data = 'transformed_pizza_sales_data.csv'\n",
    "\n",
    "df.to_csv(transformed_data,index=False)"
   ]
  },
  {
   "cell_type": "code",
   "execution_count": 8,
   "id": "d2dcd3d7-ae63-4a64-a8dd-a66441ab35d2",
   "metadata": {},
   "outputs": [],
   "source": [
    "# Load transformed data to cloud\n",
    "#pip install google-cloud-storage\n",
    "from google.cloud import storage"
   ]
  },
  {
   "cell_type": "code",
   "execution_count": 9,
   "id": "ad7141f4-c600-424e-ade3-262b66440162",
   "metadata": {},
   "outputs": [
    {
     "name": "stderr",
     "output_type": "stream",
     "text": [
      "C:\\Users\\Eben\\AppData\\Roaming\\Python\\Python311\\site-packages\\google\\auth\\_default.py:76: UserWarning: Your application has authenticated using end user credentials from Google Cloud SDK without a quota project. You might receive a \"quota exceeded\" or \"API not enabled\" error. See the following page for troubleshooting: https://cloud.google.com/docs/authentication/adc-troubleshooting/user-creds. \n",
      "  warnings.warn(_CLOUD_SDK_CREDENTIALS_WARNING)\n"
     ]
    }
   ],
   "source": [
    "# Initialize a GCS Client\n",
    "client = storage.Client()"
   ]
  },
  {
   "cell_type": "code",
   "execution_count": 10,
   "id": "8267ff81-e07e-483f-963a-ccc630ff2437",
   "metadata": {},
   "outputs": [
    {
     "name": "stdout",
     "output_type": "stream",
     "text": [
      "transformed_pizza_sales_data.csv upload successfully...\n"
     ]
    }
   ],
   "source": [
    "# Define the bucket and blob\n",
    "bucket_name = 'test_msql_pl2'\n",
    "destination_blob_name = 'transformed_pizza_sales_data.csv'\n",
    "source_file_name = transformed_data\n",
    "\n",
    "bucket = client.bucket(bucket_name)\n",
    "blob = bucket.blob(destination_blob_name)\n",
    "\n",
    "# upload file to GCS\n",
    "def upload_file():\n",
    "    blob.upload_from_filename(source_file_name)\n",
    "    \n",
    "if upload_file:\n",
    "    print(f'{source_file_name} upload successfully...')\n",
    "else:\n",
    "    print(f'{source_file_name} encountered an error during upload..')\n",
    "\n"
   ]
  },
  {
   "cell_type": "code",
   "execution_count": null,
   "id": "29f896e3-cbeb-4157-bfb5-12059d511910",
   "metadata": {},
   "outputs": [],
   "source": []
  }
 ],
 "metadata": {
  "kernelspec": {
   "display_name": "Python 3 (ipykernel)",
   "language": "python",
   "name": "python3"
  },
  "language_info": {
   "codemirror_mode": {
    "name": "ipython",
    "version": 3
   },
   "file_extension": ".py",
   "mimetype": "text/x-python",
   "name": "python",
   "nbconvert_exporter": "python",
   "pygments_lexer": "ipython3",
   "version": "3.11.2"
  }
 },
 "nbformat": 4,
 "nbformat_minor": 5
}
